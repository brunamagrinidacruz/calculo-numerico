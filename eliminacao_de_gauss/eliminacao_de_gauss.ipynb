{
 "cells": [
  {
   "cell_type": "markdown",
   "id": "external-thanks",
   "metadata": {},
   "source": [
    "<img src=\"eliminacao_de_gauss.png\" alt=\"Drawing\" style=\"height: 400px; width: 550px;\"/> "
   ]
  },
  {
   "cell_type": "code",
   "execution_count": 5,
   "id": "refined-korea",
   "metadata": {},
   "outputs": [
    {
     "name": "stdout",
     "output_type": "stream",
     "text": [
      "[[ 1  2  0]\n",
      " [ 1  1  1]\n",
      " [-2  4 -3]]\n",
      "[ 3  2 -3]\n"
     ]
    }
   ],
   "source": [
    "import numpy as np\n",
    "def eliminacao_de_gauss(A, b):\n",
    "    # Ax=b\n",
    "    # Retorna A'x=b' equivalente a Ax=b\n",
    "    n = len(b)\n",
    "    for k in range(0, n-1):\n",
    "        for i in range(k+1, n):\n",
    "            if A[i, k] != 0.0:\n",
    "                lam = A[i, k]/A[k,k]\n",
    "                A[i, k+1:n] = A[i, k+1:n] - lam*A[k, k+1:n]\n",
    "                b[i] = b[i] - lam*b[k]\n",
    "    return A, b\n",
    "\n",
    "A = np.array([[1, 2, 0], [1, 3, 1], [-2, 0, 1]])\n",
    "b = np.array([3, 5, -1])\n",
    "U, b = eliminacao_de_gauss(A, b)\n",
    "print(U)\n",
    "print(b)"
   ]
  }
 ],
 "metadata": {
  "kernelspec": {
   "display_name": "Python 3",
   "language": "python",
   "name": "python3"
  },
  "language_info": {
   "codemirror_mode": {
    "name": "ipython",
    "version": 3
   },
   "file_extension": ".py",
   "mimetype": "text/x-python",
   "name": "python",
   "nbconvert_exporter": "python",
   "pygments_lexer": "ipython3",
   "version": "3.8.5"
  }
 },
 "nbformat": 4,
 "nbformat_minor": 5
}
